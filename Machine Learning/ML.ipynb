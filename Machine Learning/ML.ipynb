{
 "cells": [
  {
   "cell_type": "markdown",
   "metadata": {},
   "source": [
    "## Implementación de modelo de ML para clasificación de sismos ##\n",
    "\n",
    "### Algoritmo SVM ###\n",
    "\n",
    "1. Importa las bibliotecas necesarias:\n",
    "   - from sklearn import svm\n",
    "   - from sklearn.model_selection import train_test_split\n",
    "   - from sklearn.metrics import accuracy_score\n",
    "\n",
    "2. Divide tus datos en características (X) y etiquetas (y) correspondientes a la intensidad del sismo y la clasificación de destrucción (vidas, casas destruidas, dinero gastado), respectivamente.\n",
    "\n",
    "3. Divide los datos en conjuntos de entrenamiento y prueba utilizando train_test_split:\n",
    "   - X_train, X_test, y_train, y_test = train_test_split(X, y, test_size=0.2, random_state=42)\n",
    "\n",
    "4. Crea una instancia del clasificador SVM:\n",
    "   - clf = svm.SVC()\n",
    "\n",
    "5. Entrena el modelo utilizando los datos de entrenamiento:\n",
    "   - clf.fit(X_train, y_train)\n",
    "\n",
    "6. Realiza predicciones en el conjunto de prueba:\n",
    "   - y_pred = clf.predict(X_test)\n",
    "\n",
    "7. Evalúa el rendimiento del modelo utilizando la precisión (accuracy):\n",
    "   - accuracy = accuracy_score(y_test, y_pred)\n",
    "   - print(\"Precisión del modelo SVM:\", accuracy)"
   ]
  },
  {
   "cell_type": "code",
   "execution_count": 1,
   "metadata": {},
   "outputs": [],
   "source": [
    "import pandas as pd\n",
    "from sklearn import svm\n",
    "from sklearn.model_selection import train_test_split\n",
    "from sklearn.metrics import accuracy_score"
   ]
  },
  {
   "cell_type": "code",
   "execution_count": null,
   "metadata": {},
   "outputs": [],
   "source": []
  }
 ],
 "metadata": {
  "kernelspec": {
   "display_name": "Python 3",
   "language": "python",
   "name": "python3"
  },
  "language_info": {
   "codemirror_mode": {
    "name": "ipython",
    "version": 3
   },
   "file_extension": ".py",
   "mimetype": "text/x-python",
   "name": "python",
   "nbconvert_exporter": "python",
   "pygments_lexer": "ipython3",
   "version": "3.11.1"
  },
  "orig_nbformat": 4
 },
 "nbformat": 4,
 "nbformat_minor": 2
}
